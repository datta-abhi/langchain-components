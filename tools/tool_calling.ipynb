{
 "cells": [
  {
   "cell_type": "markdown",
   "id": "b9dd2f1d",
   "metadata": {},
   "source": [
    "## Imports"
   ]
  },
  {
   "cell_type": "code",
   "execution_count": 43,
   "id": "8e38cebc",
   "metadata": {},
   "outputs": [],
   "source": [
    "from langchain_openai import ChatOpenAI\n",
    "from langchain_core.tools import tool, InjectedToolArg\n",
    "import requests\n",
    "from typing import Annotated\n",
    "import json"
   ]
  },
  {
   "cell_type": "code",
   "execution_count": 3,
   "id": "c5935ee2",
   "metadata": {},
   "outputs": [],
   "source": [
    "# create tool\n",
    "@tool\n",
    "def multiply(a: int, b: int)->int:\n",
    "    \"\"\"multiplies two numbers\"\"\"\n",
    "    return a*b\n",
    "\n",
    "@tool\n",
    "def addition(a: int, b: int)->int:\n",
    "    \"\"\"adds two numbers\"\"\"\n",
    "    return a+b"
   ]
  },
  {
   "cell_type": "code",
   "execution_count": 4,
   "id": "2a99cee1",
   "metadata": {},
   "outputs": [],
   "source": [
    "# instantiate llm\n",
    "llm = ChatOpenAI(model = \"gpt-4o-mini\")\n",
    "\n",
    "# bind to llm\n",
    "llm_with_tools = llm.bind_tools([multiply,addition])"
   ]
  },
  {
   "cell_type": "code",
   "execution_count": 6,
   "id": "ddee2f7c",
   "metadata": {},
   "outputs": [
    {
     "name": "stdout",
     "output_type": "stream",
     "text": [
      "content='The capital of India is New Delhi.' additional_kwargs={'refusal': None} response_metadata={'token_usage': {'completion_tokens': 9, 'prompt_tokens': 73, 'total_tokens': 82, 'completion_tokens_details': {'accepted_prediction_tokens': 0, 'audio_tokens': 0, 'reasoning_tokens': 0, 'rejected_prediction_tokens': 0}, 'prompt_tokens_details': {'audio_tokens': 0, 'cached_tokens': 0}}, 'model_name': 'gpt-4o-mini-2024-07-18', 'system_fingerprint': 'fp_b83a7d52ea', 'id': 'chatcmpl-CEz6JHWS5BdCRRDxoro0PZVew64qu', 'service_tier': 'default', 'finish_reason': 'stop', 'logprobs': None} id='run--ed3a7725-d88a-440d-aa77-e834978002fc-0' usage_metadata={'input_tokens': 73, 'output_tokens': 9, 'total_tokens': 82, 'input_token_details': {'audio': 0, 'cache_read': 0}, 'output_token_details': {'audio': 0, 'reasoning': 0}}\n"
     ]
    }
   ],
   "source": [
    "print(llm_with_tools.invoke(\"What is the capital of India?\"))"
   ]
  },
  {
   "cell_type": "code",
   "execution_count": 5,
   "id": "b9a9d9d5",
   "metadata": {},
   "outputs": [
    {
     "data": {
      "text/plain": [
       "AIMessage(content='', additional_kwargs={'tool_calls': [{'id': 'call_g5aHbLkpxl0k9CobJq9GwJ3B', 'function': {'arguments': '{\"a\":10,\"b\":50}', 'name': 'multiply'}, 'type': 'function'}], 'refusal': None}, response_metadata={'token_usage': {'completion_tokens': 17, 'prompt_tokens': 74, 'total_tokens': 91, 'completion_tokens_details': {'accepted_prediction_tokens': 0, 'audio_tokens': 0, 'reasoning_tokens': 0, 'rejected_prediction_tokens': 0}, 'prompt_tokens_details': {'audio_tokens': 0, 'cached_tokens': 0}}, 'model_name': 'gpt-4o-mini-2024-07-18', 'system_fingerprint': 'fp_8bda4d3a2c', 'id': 'chatcmpl-CFDsNaTJFz87L0vRayVuxKqnMga0G', 'service_tier': 'default', 'finish_reason': 'tool_calls', 'logprobs': None}, id='run--43848029-89b4-4cb7-a3c1-4876df143fd1-0', tool_calls=[{'name': 'multiply', 'args': {'a': 10, 'b': 50}, 'id': 'call_g5aHbLkpxl0k9CobJq9GwJ3B', 'type': 'tool_call'}], usage_metadata={'input_tokens': 74, 'output_tokens': 17, 'total_tokens': 91, 'input_token_details': {'audio': 0, 'cache_read': 0}, 'output_token_details': {'audio': 0, 'reasoning': 0}})"
      ]
     },
     "execution_count": 5,
     "metadata": {},
     "output_type": "execute_result"
    }
   ],
   "source": [
    "llm_with_tools.invoke(\"What is 10 times 50?\")"
   ]
  },
  {
   "cell_type": "code",
   "execution_count": 6,
   "id": "259646bf",
   "metadata": {},
   "outputs": [
    {
     "data": {
      "text/plain": [
       "AIMessage(content='', additional_kwargs={'tool_calls': [{'id': 'call_i5nDTrOaOOnBTevlbFGUNTbv', 'function': {'arguments': '{\"a\":50,\"b\":50}', 'name': 'addition'}, 'type': 'function'}], 'refusal': None}, response_metadata={'token_usage': {'completion_tokens': 18, 'prompt_tokens': 75, 'total_tokens': 93, 'completion_tokens_details': {'accepted_prediction_tokens': 0, 'audio_tokens': 0, 'reasoning_tokens': 0, 'rejected_prediction_tokens': 0}, 'prompt_tokens_details': {'audio_tokens': 0, 'cached_tokens': 0}}, 'model_name': 'gpt-4o-mini-2024-07-18', 'system_fingerprint': 'fp_8bda4d3a2c', 'id': 'chatcmpl-CFDtXkkK4bMSRbsBIuedRaQuLiz20', 'service_tier': 'default', 'finish_reason': 'tool_calls', 'logprobs': None}, id='run--5204bd7f-29fb-474a-8198-9a43f9861c5c-0', tool_calls=[{'name': 'addition', 'args': {'a': 50, 'b': 50}, 'id': 'call_i5nDTrOaOOnBTevlbFGUNTbv', 'type': 'tool_call'}], usage_metadata={'input_tokens': 75, 'output_tokens': 18, 'total_tokens': 93, 'input_token_details': {'audio': 0, 'cache_read': 0}, 'output_token_details': {'audio': 0, 'reasoning': 0}})"
      ]
     },
     "execution_count": 6,
     "metadata": {},
     "output_type": "execute_result"
    }
   ],
   "source": [
    "llm_with_tools.invoke(\"What is 50 increased by 50?\")"
   ]
  },
  {
   "cell_type": "markdown",
   "id": "f2b35cdd",
   "metadata": {},
   "source": [
    "## Tool execution"
   ]
  },
  {
   "cell_type": "code",
   "execution_count": 7,
   "id": "27c7dc3a",
   "metadata": {},
   "outputs": [],
   "source": [
    "result = llm_with_tools.invoke(\"What is 50 increased by 50?\")"
   ]
  },
  {
   "cell_type": "code",
   "execution_count": 8,
   "id": "f216886f",
   "metadata": {},
   "outputs": [
    {
     "data": {
      "text/plain": [
       "[{'name': 'addition',\n",
       "  'args': {'a': 50, 'b': 50},\n",
       "  'id': 'call_OzupreIaNMzp4rxEjlT1N0Lu',\n",
       "  'type': 'tool_call'}]"
      ]
     },
     "execution_count": 8,
     "metadata": {},
     "output_type": "execute_result"
    }
   ],
   "source": [
    "result.tool_calls"
   ]
  },
  {
   "cell_type": "code",
   "execution_count": 11,
   "id": "f3d97471",
   "metadata": {},
   "outputs": [
    {
     "data": {
      "text/plain": [
       "ToolMessage(content='100', name='addition', tool_call_id='call_OzupreIaNMzp4rxEjlT1N0Lu')"
      ]
     },
     "execution_count": 11,
     "metadata": {},
     "output_type": "execute_result"
    }
   ],
   "source": [
    "addition.invoke(result.tool_calls[0])"
   ]
  },
  {
   "cell_type": "markdown",
   "id": "0b150da0",
   "metadata": {},
   "source": [
    "## Currency Conversion Tool"
   ]
  },
  {
   "cell_type": "code",
   "execution_count": 37,
   "id": "9879cdc4",
   "metadata": {},
   "outputs": [],
   "source": [
    "# conversion factor api tool\n",
    "@tool\n",
    "def fetch_conversion_factor(base_currency: str, target_currency: str)-> float:\n",
    "    \"\"\"fetches the latest conversion factor from base currency to target currency\"\"\"\n",
    "    base_currency = base_currency.upper()\n",
    "    target_currency = target_currency.upper()\n",
    "    \n",
    "    url = f\"https://v6.exchangerate-api.com/v6/aaf05154f5eeafdf92f45a0a/pair/{base_currency}/{target_currency}\"\n",
    "    response = requests.get(url)\n",
    "    return response.json()\n",
    "\n",
    "# multiplying with conevrsion factor tool\n",
    "@tool\n",
    "def convert(base_value: float, conversion_factor: Annotated[float, InjectedToolArg])->float:\n",
    "    \"\"\"given a currency rate this function calculates the target currency value from given base currency value\"\"\"\n",
    "    return round(base_value*conversion_factor,2)"
   ]
  },
  {
   "cell_type": "code",
   "execution_count": 29,
   "id": "60ec8253",
   "metadata": {},
   "outputs": [
    {
     "data": {
      "text/plain": [
       "{'result': 'success',\n",
       " 'documentation': 'https://www.exchangerate-api.com/docs',\n",
       " 'terms_of_use': 'https://www.exchangerate-api.com/terms',\n",
       " 'time_last_update_unix': 1757721601,\n",
       " 'time_last_update_utc': 'Sat, 13 Sep 2025 00:00:01 +0000',\n",
       " 'time_next_update_unix': 1757808001,\n",
       " 'time_next_update_utc': 'Sun, 14 Sep 2025 00:00:01 +0000',\n",
       " 'base_code': 'AED',\n",
       " 'target_code': 'INR',\n",
       " 'conversion_rate': 24.0483}"
      ]
     },
     "execution_count": 29,
     "metadata": {},
     "output_type": "execute_result"
    }
   ],
   "source": [
    "fetch_conversion_factor.invoke({'base_currency': 'aed', 'target_currency': 'inr'})"
   ]
  },
  {
   "cell_type": "code",
   "execution_count": 30,
   "id": "dc0d1f47",
   "metadata": {},
   "outputs": [
    {
     "data": {
      "text/plain": [
       "240.0"
      ]
     },
     "execution_count": 30,
     "metadata": {},
     "output_type": "execute_result"
    }
   ],
   "source": [
    "convert.invoke({\"base_value\":10,\"conversion_factor\":24})"
   ]
  },
  {
   "cell_type": "code",
   "execution_count": 38,
   "id": "c34586e0",
   "metadata": {},
   "outputs": [],
   "source": [
    "# tool binding\n",
    "llm = ChatOpenAI()\n",
    "llm_with_tools = llm.bind_tools([convert,fetch_conversion_factor])"
   ]
  },
  {
   "cell_type": "code",
   "execution_count": 39,
   "id": "34ea6bd7",
   "metadata": {},
   "outputs": [],
   "source": [
    "query = \"What is the conversion rate between usd and inr, and based on that can you convert 10 usd to inr?\""
   ]
  },
  {
   "cell_type": "code",
   "execution_count": 40,
   "id": "b8c0b3fc",
   "metadata": {},
   "outputs": [],
   "source": [
    "result = llm_with_tools.invoke(query)"
   ]
  },
  {
   "cell_type": "code",
   "execution_count": 41,
   "id": "dda5be12",
   "metadata": {},
   "outputs": [
    {
     "data": {
      "text/plain": [
       "[{'name': 'fetch_conversion_factor',\n",
       "  'args': {'base_currency': 'USD', 'target_currency': 'INR'},\n",
       "  'id': 'call_xtuR9mVFAL9zUjdbGxJYiAA9',\n",
       "  'type': 'tool_call'},\n",
       " {'name': 'convert',\n",
       "  'args': {'base_value': 10},\n",
       "  'id': 'call_67M4Ax0Z3tWXr0qH2UatFwhS',\n",
       "  'type': 'tool_call'}]"
      ]
     },
     "execution_count": 41,
     "metadata": {},
     "output_type": "execute_result"
    }
   ],
   "source": [
    "result.tool_calls"
   ]
  },
  {
   "cell_type": "code",
   "execution_count": 45,
   "id": "845cc020",
   "metadata": {},
   "outputs": [
    {
     "name": "stdout",
     "output_type": "stream",
     "text": [
      "88.3176\n"
     ]
    }
   ],
   "source": [
    "for tool_call in result.tool_calls:\n",
    "    # execute first tool to get conversion factor\n",
    "    if tool_call['name'] == 'fetch_conversion_factor':\n",
    "        tool_message_1 = fetch_conversion_factor.invoke(tool_call)\n",
    "        # print(tool_message_1)\n",
    "        conversion_rate = json.loads(tool_message_1.content)['conversion_rate']\n",
    "        print(conversion_rate)\n",
    "        \n",
    "    \n",
    "    # execute second tool using conversion rate from tool 1"
   ]
  },
  {
   "cell_type": "code",
   "execution_count": null,
   "id": "ac6d0b9f",
   "metadata": {},
   "outputs": [],
   "source": []
  }
 ],
 "metadata": {
  "kernelspec": {
   "display_name": ".venv (3.12.1)",
   "language": "python",
   "name": "python3"
  },
  "language_info": {
   "codemirror_mode": {
    "name": "ipython",
    "version": 3
   },
   "file_extension": ".py",
   "mimetype": "text/x-python",
   "name": "python",
   "nbconvert_exporter": "python",
   "pygments_lexer": "ipython3",
   "version": "3.12.1"
  }
 },
 "nbformat": 4,
 "nbformat_minor": 5
}
