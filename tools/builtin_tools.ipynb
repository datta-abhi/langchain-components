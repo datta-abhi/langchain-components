{
 "cells": [
  {
   "cell_type": "markdown",
   "id": "1dcaac64",
   "metadata": {},
   "source": [
    "## Duckduckgo Search"
   ]
  },
  {
   "cell_type": "code",
   "execution_count": 1,
   "id": "6be06c50",
   "metadata": {},
   "outputs": [
    {
     "name": "stdout",
     "output_type": "stream",
     "text": [
      "4 hours ago - The 2025 Men's Asia Cup (also known as DP World Asia Cup for sponsorship reasons) is the 17th edition of the Asia Cup cricket tournament. It is taking place in the United Arab Emirates from 9 to 28 September 2025 . The matches are being played in the Twenty20 International (T20I) format. 2 weeks ago - The 2025 FIBA Asia Cup was the 31st edition of the FIBA Asia Cup , the continental men's basketball championship in Asia . It was held from 5 to 17 August 2025 . The tournament was organized by FIBA Asia and returned to its usual four-year cycle, after the previous tournament was delayed to 2022 ... 3 days ago - The 2025 Men's Hockey Asia Cup was the 12th edition of the Men's Hockey Asia Cup , the quadrennial international men's field hockey championship of Asia organized by the Asian Hockey Federation. It was held at the Bihar Sports University Hockey Stadium in Rajgir Sports Complex, India from 29 ... 2 days ago - The Asia Cup 2025 cricket tournament will be played from September 9 to 28. Know India’s schedule, match time and where to watch live streaming and telecast on TV in India. Get the latest updates on Asia Cup 2025 , including the full schedule, teams, squads, fixtures, points table, live streaming, tickets, venues, and match timings.\n"
     ]
    }
   ],
   "source": [
    "from langchain_community.tools import DuckDuckGoSearchRun\n",
    "\n",
    "search_tool = DuckDuckGoSearchRun()\n",
    "search_result = search_tool.invoke(\"asia cup 2025\")\n",
    "print(search_result)"
   ]
  },
  {
   "cell_type": "markdown",
   "id": "53ef1cf9",
   "metadata": {},
   "source": [
    "## ShellTool"
   ]
  },
  {
   "cell_type": "code",
   "execution_count": 5,
   "id": "bf8e10e5",
   "metadata": {},
   "outputs": [
    {
     "name": "stdout",
     "output_type": "stream",
     "text": [
      "Executing command:\n",
      " ls\n",
      "'ls' is not recognized as an internal or external command,\n",
      "operable program or batch file.\n",
      "\n"
     ]
    },
    {
     "name": "stderr",
     "output_type": "stream",
     "text": [
      "c:\\myprojects\\langchain_campusx\\langchain-components\\.venv\\Lib\\site-packages\\langchain_community\\tools\\shell\\tool.py:33: UserWarning: The shell tool has no safeguards by default. Use at your own risk.\n",
      "  warnings.warn(\n"
     ]
    }
   ],
   "source": [
    "from langchain_community.tools import ShellTool\n",
    "\n",
    "shell_tool = ShellTool()\n",
    "result = shell_tool.invoke('ls')\n",
    "print(result)"
   ]
  },
  {
   "cell_type": "code",
   "execution_count": null,
   "id": "fa232b74",
   "metadata": {},
   "outputs": [],
   "source": []
  }
 ],
 "metadata": {
  "kernelspec": {
   "display_name": ".venv (3.12.1)",
   "language": "python",
   "name": "python3"
  },
  "language_info": {
   "codemirror_mode": {
    "name": "ipython",
    "version": 3
   },
   "file_extension": ".py",
   "mimetype": "text/x-python",
   "name": "python",
   "nbconvert_exporter": "python",
   "pygments_lexer": "ipython3",
   "version": "3.12.1"
  }
 },
 "nbformat": 4,
 "nbformat_minor": 5
}
