{
 "cells": [
  {
   "cell_type": "markdown",
   "id": "ec77a3cd",
   "metadata": {},
   "source": [
    "## Steps to create custom tool"
   ]
  },
  {
   "cell_type": "code",
   "execution_count": 2,
   "id": "c7b661b1",
   "metadata": {},
   "outputs": [],
   "source": [
    "from langchain_core.tools import tool"
   ]
  },
  {
   "cell_type": "markdown",
   "id": "9a0a2811",
   "metadata": {},
   "source": [
    "Create function with type-hinting and doc-string and @tool decorator -->"
   ]
  },
  {
   "cell_type": "code",
   "execution_count": 3,
   "id": "99da322a",
   "metadata": {},
   "outputs": [],
   "source": [
    "@tool\n",
    "def foo(a: int, b: int)-> float:\n",
    "    \"\"\"Divides first number by second number\"\"\"\n",
    "    return a/b\n",
    "\n",
    "@tool\n",
    "def shoo(s: str)-> str:\n",
    "    \"\"\"reverse a string\"\"\"\n",
    "    return s[::-1]"
   ]
  },
  {
   "cell_type": "code",
   "execution_count": 7,
   "id": "5463b5c3",
   "metadata": {},
   "outputs": [
    {
     "data": {
      "text/plain": [
       "0.6"
      ]
     },
     "execution_count": 7,
     "metadata": {},
     "output_type": "execute_result"
    }
   ],
   "source": [
    "res1 = foo.invoke({'a':3,'b': 5})\n",
    "res1"
   ]
  },
  {
   "cell_type": "code",
   "execution_count": 9,
   "id": "df06edcb",
   "metadata": {},
   "outputs": [
    {
     "data": {
      "text/plain": [
       "'dlrow olleH'"
      ]
     },
     "execution_count": 9,
     "metadata": {},
     "output_type": "execute_result"
    }
   ],
   "source": [
    "res2 = shoo.invoke(\"Hello world\")\n",
    "res2"
   ]
  },
  {
   "cell_type": "code",
   "execution_count": 11,
   "id": "2e1b09ac",
   "metadata": {},
   "outputs": [
    {
     "name": "stdout",
     "output_type": "stream",
     "text": [
      "foo\n",
      "Divides first number by second number\n",
      "{'a': {'title': 'A', 'type': 'integer'}, 'b': {'title': 'B', 'type': 'integer'}}\n"
     ]
    }
   ],
   "source": [
    "print(foo.name)\n",
    "print(foo.description)\n",
    "print(foo.args)"
   ]
  },
  {
   "cell_type": "code",
   "execution_count": 13,
   "id": "750ac0f2",
   "metadata": {},
   "outputs": [
    {
     "name": "stdout",
     "output_type": "stream",
     "text": [
      "shoo\n",
      "reverse a string\n",
      "{'s': {'title': 'S', 'type': 'string'}}\n"
     ]
    }
   ],
   "source": [
    "print(shoo.name)\n",
    "print(shoo.description)\n",
    "print(shoo.args)"
   ]
  },
  {
   "cell_type": "markdown",
   "id": "4e84c483",
   "metadata": {},
   "source": [
    "## What LLM sees"
   ]
  },
  {
   "cell_type": "code",
   "execution_count": 14,
   "id": "59e33620",
   "metadata": {},
   "outputs": [
    {
     "data": {
      "text/plain": [
       "{'description': 'Divides first number by second number',\n",
       " 'properties': {'a': {'title': 'A', 'type': 'integer'},\n",
       "  'b': {'title': 'B', 'type': 'integer'}},\n",
       " 'required': ['a', 'b'],\n",
       " 'title': 'foo',\n",
       " 'type': 'object'}"
      ]
     },
     "execution_count": 14,
     "metadata": {},
     "output_type": "execute_result"
    }
   ],
   "source": [
    "foo.args_schema.model_json_schema()"
   ]
  },
  {
   "cell_type": "markdown",
   "id": "ad9c4377",
   "metadata": {},
   "source": [
    "## Structured Tool using Pydantic"
   ]
  },
  {
   "cell_type": "code",
   "execution_count": 15,
   "id": "5bb38708",
   "metadata": {},
   "outputs": [],
   "source": [
    "from langchain.tools import StructuredTool\n",
    "from pydantic import BaseModel, Field"
   ]
  },
  {
   "cell_type": "code",
   "execution_count": 16,
   "id": "264861bb",
   "metadata": {},
   "outputs": [],
   "source": [
    "class MultiplyInput(BaseModel):\n",
    "    a: int = Field(description=\"The first number to multiply\")\n",
    "    b: int = Field(description=\"The second number to multiply\")"
   ]
  },
  {
   "cell_type": "code",
   "execution_count": 17,
   "id": "cac60254",
   "metadata": {},
   "outputs": [],
   "source": [
    "def multiply_func(a:int, b: int)-> int:\n",
    "    \"\"\"multiplies two integers\"\"\"\n",
    "    return a*b"
   ]
  },
  {
   "cell_type": "code",
   "execution_count": 18,
   "id": "f7a5b4bb",
   "metadata": {},
   "outputs": [],
   "source": [
    "multiply_tool = StructuredTool.from_function(func = multiply_func,\n",
    "                                             args_schema= MultiplyInput,\n",
    "                                             name=\" multiplication_tool\",\n",
    "                                             description=\"multiplies integers\")"
   ]
  },
  {
   "cell_type": "code",
   "execution_count": 19,
   "id": "b93677e1",
   "metadata": {},
   "outputs": [
    {
     "data": {
      "text/plain": [
       "30"
      ]
     },
     "execution_count": 19,
     "metadata": {},
     "output_type": "execute_result"
    }
   ],
   "source": [
    "res = multiply_tool.invoke({'a':10,'b':3})\n",
    "res"
   ]
  },
  {
   "cell_type": "code",
   "execution_count": 20,
   "id": "4a9bd081",
   "metadata": {},
   "outputs": [
    {
     "data": {
      "text/plain": [
       "{'properties': {'a': {'description': 'The first number to multiply',\n",
       "   'title': 'A',\n",
       "   'type': 'integer'},\n",
       "  'b': {'description': 'The second number to multiply',\n",
       "   'title': 'B',\n",
       "   'type': 'integer'}},\n",
       " 'required': ['a', 'b'],\n",
       " 'title': 'MultiplyInput',\n",
       " 'type': 'object'}"
      ]
     },
     "execution_count": 20,
     "metadata": {},
     "output_type": "execute_result"
    }
   ],
   "source": [
    "multiply_tool.args_schema.model_json_schema()"
   ]
  },
  {
   "cell_type": "code",
   "execution_count": 21,
   "id": "348ddc4f",
   "metadata": {},
   "outputs": [
    {
     "data": {
      "text/plain": [
       "'multiplies integers'"
      ]
     },
     "execution_count": 21,
     "metadata": {},
     "output_type": "execute_result"
    }
   ],
   "source": [
    "multiply_tool.description"
   ]
  },
  {
   "cell_type": "code",
   "execution_count": null,
   "id": "284f80e7",
   "metadata": {},
   "outputs": [],
   "source": [
    "\n",
    "\n"
   ]
  }
 ],
 "metadata": {
  "kernelspec": {
   "display_name": ".venv (3.12.1)",
   "language": "python",
   "name": "python3"
  },
  "language_info": {
   "codemirror_mode": {
    "name": "ipython",
    "version": 3
   },
   "file_extension": ".py",
   "mimetype": "text/x-python",
   "name": "python",
   "nbconvert_exporter": "python",
   "pygments_lexer": "ipython3",
   "version": "3.12.1"
  }
 },
 "nbformat": 4,
 "nbformat_minor": 5
}
