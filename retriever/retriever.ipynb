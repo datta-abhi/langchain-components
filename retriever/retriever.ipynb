{
 "cells": [
  {
   "cell_type": "code",
   "execution_count": 2,
   "id": "4e7288a8",
   "metadata": {},
   "outputs": [],
   "source": [
    "# imports\n",
    "from dotenv import load_dotenv\n",
    "from langchain_huggingface.embeddings import HuggingFaceEmbeddings\n",
    "from langchain_community.document_loaders import PyMuPDFLoader \n",
    "from langchain.text_splitter import RecursiveCharacterTextSplitter\n",
    "from langchain.vectorstores import Chroma"
   ]
  },
  {
   "cell_type": "code",
   "execution_count": 6,
   "id": "be6cd5cc",
   "metadata": {},
   "outputs": [],
   "source": [
    "# get access keys\n",
    "load_dotenv()\n",
    "file = '../document_loaders/books/scientific_legacy_apollo.pdf'\n",
    "user_query = \"What do we know about lunar cratering rate?\""
   ]
  },
  {
   "cell_type": "code",
   "execution_count": 4,
   "id": "9979bf15",
   "metadata": {},
   "outputs": [
    {
     "name": "stderr",
     "output_type": "stream",
     "text": [
      "c:\\myprojects\\langchain_campusx\\langchain-components\\.venv\\Lib\\site-packages\\tqdm\\auto.py:21: TqdmWarning: IProgress not found. Please update jupyter and ipywidgets. See https://ipywidgets.readthedocs.io/en/stable/user_install.html\n",
      "  from .autonotebook import tqdm as notebook_tqdm\n"
     ]
    }
   ],
   "source": [
    "# instantiate embedding model\n",
    "embed_model = HuggingFaceEmbeddings(model_name=\"sentence-transformers/all-MiniLM-L6-v2\")"
   ]
  },
  {
   "cell_type": "markdown",
   "id": "dfd26360",
   "metadata": {},
   "source": [
    "## Loading a pdf document"
   ]
  },
  {
   "cell_type": "code",
   "execution_count": 7,
   "id": "f3194068",
   "metadata": {},
   "outputs": [
    {
     "name": "stdout",
     "output_type": "stream",
     "text": [
      "11\n"
     ]
    }
   ],
   "source": [
    "# load document\n",
    "loader = PyMuPDFLoader(file)\n",
    "pages = loader.load()\n",
    "print(len(pages))\n",
    "# print(docs[2])"
   ]
  },
  {
   "cell_type": "code",
   "execution_count": 10,
   "id": "87b05d81",
   "metadata": {},
   "outputs": [
    {
     "name": "stdout",
     "output_type": "stream",
     "text": [
      "12.5 days, with just 3.4 days spent performing extravehicular activities (EVAs) \n",
      "outside the lunar modules (Orloff and Harland 2006). Yet during this all-too-brief a \n",
      "time samples were collected, measurements made, and instruments deployed which \n",
      "have revolutionised lunar and planetary science and which continue to have a major \n",
      "scientific impact today.  \n",
      " \n",
      " \n",
      " \n",
      " \n",
      "Fig 2. The Apollo landing sites. \n",
      "Note their restriction to the \n",
      "central part of the nearside – \n",
      "there is a lot more of the Moon \n",
      "to explore! (USGS/Dr K.H. \n",
      "Joy). \n",
      " \n",
      " \n",
      " \n",
      " \n",
      " \n",
      " \n",
      " \n",
      " \n",
      " \n",
      " \n",
      " \n",
      " \n",
      " \n",
      "Exploration Efficiency \n",
      " \n",
      "In their cumulative 12.5 days (25 man-days) on the lunar surface, the twelve Apollo \n",
      "moonwalkers traversed a total distance of 95.5 km from their landing sites (heavily \n",
      "weighted to the last three missions that were equipped with the Lunar Roving \n",
      "Vehicle), collected and returned to Earth 382 kg of rock and soil samples (from over \n",
      "2000 discrete sample localities), drilled three geological sample cores to depths \n",
      "greater than 2 m (plus another five 2-3 m cores for the heat-flow experiments), \n",
      "obtained over 6000 surface images, and deployed over 2100 kg of scientific \n",
      "equipment. These surface experiments were supplemented by wide-ranging remote-\n",
      "sensing observations conducted from the orbiting Command/Service Modules, which \n",
      "are of course equally part of the Apollo legacy. Interested readers will find \n",
      "comprehensive summaries of all the Apollo experiments given by Wilhelms (1993), \n",
      "Beattie (2001), and Orloff and Harland (2006). \n",
      " \n",
      "Before moving on to discuss the main scientific results from all this activity, I think it \n",
      "is worth pausing to reflect on the sheer efficiency of the Apollo astronauts as \n",
      "scientific explorers. This may only be immediately obvious to colleagues who \n",
      "themselves have experience of geological fieldwork, and I am happy to provide a \n",
      "personal example. In June 2011, as part of an astrobiology project to assess the \n",
      "potential of the Kverkfjoll sub-glacial volcano in central Iceland as a Mars analogue \n",
      "site (see Cousins and Crawford 2011), myself and five colleagues spent 7 days \n",
      "operating out of a small mountain hut on the Vatnajökull glacier not a whole lot\n"
     ]
    }
   ],
   "source": [
    "print(pages[1].page_content)"
   ]
  },
  {
   "cell_type": "markdown",
   "id": "ed663f22",
   "metadata": {},
   "source": [
    "## Text splitting"
   ]
  },
  {
   "cell_type": "code",
   "execution_count": 11,
   "id": "b89b6420",
   "metadata": {},
   "outputs": [
    {
     "name": "stdout",
     "output_type": "stream",
     "text": [
      "33\n"
     ]
    }
   ],
   "source": [
    "# split into chunks\n",
    "splitter = RecursiveCharacterTextSplitter(chunk_size = 1000, chunk_overlap = 100)\n",
    "split_docs = splitter.split_documents(pages)\n",
    "print(len(split_docs))\n",
    "# print(split_docs[-2])"
   ]
  },
  {
   "cell_type": "code",
   "execution_count": 14,
   "id": "af14b4c1",
   "metadata": {},
   "outputs": [
    {
     "name": "stdout",
     "output_type": "stream",
     "text": [
      "The Scientific Legacy of Apollo \n",
      " \n",
      "Ian A. Crawford, Department of Earth and Planetary Sciences, Birkbeck College, \n",
      "University of London (i.crawford@bbk.ac.uk).  \n",
      " \n",
      "Article published in the December 2012 issue of the Royal Astronomical Society’s \n",
      "journal Astronomy and Geophysics (Vol. 53, pp. 6.24-6.28). \n",
      " \n",
      " \n",
      "Abstract \n",
      "On the 40th anniversary of the last human expedition to the Moon, I review the \n",
      "scientific legacy of the Apollo programme and argue that science would benefit from \n",
      "a human return to the Moon. \n",
      " \n",
      "Introduction \n",
      " \n",
      "This December marks 40 years since the last human beings to set foot on the Moon, \n",
      "Gene Cernan and Harrison “Jack” Schmitt of Apollo 17, left the lunar surface and \n",
      "returned safely to Earth. This anniversary alone would have justified a retrospective \n",
      "look at the legacy of the Apollo project, but it has been given additional poignancy by \n",
      "the death earlier this year of Neil Armstrong, the first man to set foot on the lunar\n"
     ]
    }
   ],
   "source": [
    "print(split_docs[0].page_content)"
   ]
  },
  {
   "cell_type": "code",
   "execution_count": 15,
   "id": "fcdf0961",
   "metadata": {},
   "outputs": [
    {
     "name": "stdout",
     "output_type": "stream",
     "text": [
      "the death earlier this year of Neil Armstrong, the first man to set foot on the lunar \n",
      "surface with Apollo 11 in July 1969. The history of the Apollo project, and its \n",
      "geopolitical motivation within the context of the Cold War, is of course well \n",
      "documented (e.g. Chaiken 1994; Burrows 1998; Orloff and Harland 2006) and need \n",
      "not be repeated here. However, although the scientific legacy of Apollo has also been \n",
      "well-documented (e.g. Heiken et al. 1991; Wilhelms 1993; Beattie 2001), and is \n",
      "generally well-known within the lunar science community, I have found that it is still \n",
      "underappreciated by many astronomers, and even some planetary scientists who are \n",
      "not directly involved in lunar studies. That, at any rate, is my justification for taking \n",
      "this opportunity to give a brief review of Apollo science. \n",
      " \n",
      " \n",
      "Fig. 1. One of the last two men \n",
      "on the Moon: Harrison Schmitt \n",
      "stands next to a large boulder at \n",
      "the Apollo 17 Station 6 locality \n",
      "in December 1972. Note the\n"
     ]
    }
   ],
   "source": [
    "print(split_docs[1].page_content)"
   ]
  },
  {
   "cell_type": "markdown",
   "id": "2558013d",
   "metadata": {},
   "source": [
    "## Create Vectorstore"
   ]
  },
  {
   "cell_type": "code",
   "execution_count": 16,
   "id": "b1e03bfd",
   "metadata": {},
   "outputs": [],
   "source": [
    "# create vectorstore\n",
    "vector_store = Chroma.from_documents(documents=split_docs, embedding=embed_model, collection_name=\"apollo\", persist_directory= 'chroma')"
   ]
  },
  {
   "cell_type": "code",
   "execution_count": 23,
   "id": "30e6e7f6",
   "metadata": {},
   "outputs": [
    {
     "data": {
      "text/plain": [
       "dict_keys(['ids', 'embeddings', 'documents', 'uris', 'included', 'data', 'metadatas'])"
      ]
     },
     "execution_count": 23,
     "metadata": {},
     "output_type": "execute_result"
    }
   ],
   "source": [
    "vector_store.get().keys()"
   ]
  },
  {
   "cell_type": "code",
   "execution_count": 31,
   "id": "348531d9",
   "metadata": {},
   "outputs": [
    {
     "name": "stdout",
     "output_type": "stream",
     "text": [
      "3\n"
     ]
    }
   ],
   "source": [
    "# searching relevant documents\n",
    "# do vanilla semantic search\n",
    "similarity_result = vector_store.similarity_search(user_query, k =3)\n",
    "print(len(similarity_result))\n"
   ]
  },
  {
   "cell_type": "code",
   "execution_count": 33,
   "id": "b08f0f1c",
   "metadata": {},
   "outputs": [
    {
     "name": "stdout",
     "output_type": "stream",
     "text": [
      "Probably the most important result based on the Apollo material has been the \n",
      "calibration of the lunar cratering rate, especially over the period 3.2 to 3.8 billion \n",
      "years ago covered by the Apollo samples (reviewed by Stöffler et al. 2006). Only by \n",
      "comparing the density of impact craters on surfaces whose ages have been obtained \n",
      "independently by laboratory radiometric analyses of returned samples is it possible to \n",
      "obtain a calibration of the cratering rate. Analysis of the Apollo samples \n",
      "(supplemented by those obtained by the Soviet Union’s Luna robotic missions) has \n",
      "enabled this to be done for the Moon (Fig. 4), which remains the only planetary body \n",
      "for which such a calibration exists. Not only has this facilitated the dating of lunar \n",
      "surfaces from which samples have yet to be obtained, but it is used, with assumptions, \n",
      "to estimate the ages of cratered surfaces throughout the Solar System from Mercury to\n"
     ]
    }
   ],
   "source": [
    "print(similarity_result[0].page_content)"
   ]
  },
  {
   "cell_type": "code",
   "execution_count": 34,
   "id": "f1b56f31",
   "metadata": {},
   "outputs": [
    {
     "name": "stdout",
     "output_type": "stream",
     "text": [
      "to estimate the ages of cratered surfaces throughout the Solar System from Mercury to \n",
      "the moons of the outer planets. In particular, until such time as samples are returned \n",
      "from Mars (an important, but apparently ever-receding, scientific goal of future \n",
      "exploration), extrapolations of the Apollo calibration of the lunar cratering rate \n",
      "remains the only way of dating key events in the history of that planet, including those \n",
      "related to past habitability (Kallenbach et al. 2001). Arguably, this alone would justify \n",
      "the Apollo missions from a scientific point of view. \n",
      " \n",
      " \n",
      " \n",
      " \n",
      " \n",
      " \n",
      " \n",
      " \n",
      " \n",
      " \n",
      " \n",
      " \n",
      " \n",
      " \n",
      " \n",
      " \n",
      " \n",
      " \n",
      " \n",
      " \n",
      " \n",
      " \n",
      " \n",
      " \n",
      " \n",
      " \n",
      " \n",
      " \n",
      " \n",
      "Fig 4. The lunar crater density (number of craters larger than 1 km in diameter per square km) \n",
      "as a function of surface age as calibrated by Apollo (A) and Luna (L) samples (modified from \n",
      "Stöffler et al., 2006; reproduced with permission of the Mineralogical Society of America).\n"
     ]
    }
   ],
   "source": [
    "print(similarity_result[1].page_content)"
   ]
  },
  {
   "cell_type": "markdown",
   "id": "d7be75d0",
   "metadata": {},
   "source": [
    "## Retriever"
   ]
  },
  {
   "cell_type": "code",
   "execution_count": null,
   "id": "9a045b43",
   "metadata": {},
   "outputs": [],
   "source": [
    "# use retriever\n",
    "retriever = vector_store.as_retriever(search_kwargs = {'k':3})\n",
    "retriever_result = retriever.invoke(user_query)\n",
    "print(len(retriever_result))\n",
    "for i in retriever_result:\n",
    "    print(i.page_content, end = \"\\n\\n\")"
   ]
  }
 ],
 "metadata": {
  "kernelspec": {
   "display_name": ".venv (3.12.1)",
   "language": "python",
   "name": "python3"
  },
  "language_info": {
   "codemirror_mode": {
    "name": "ipython",
    "version": 3
   },
   "file_extension": ".py",
   "mimetype": "text/x-python",
   "name": "python",
   "nbconvert_exporter": "python",
   "pygments_lexer": "ipython3",
   "version": "3.12.1"
  }
 },
 "nbformat": 4,
 "nbformat_minor": 5
}
